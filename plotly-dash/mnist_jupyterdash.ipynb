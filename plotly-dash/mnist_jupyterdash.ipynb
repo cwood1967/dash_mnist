{
 "cells": [
  {
   "cell_type": "code",
   "execution_count": 1,
   "metadata": {},
   "outputs": [],
   "source": [
    "import json\n",
    "\n",
    "import numpy as np\n",
    "import pandas as pd\n",
    "\n",
    "import dash\n",
    "import dash_table\n",
    "import dash_core_components as dcc\n",
    "import dash_html_components as html\n",
    "from dash.dependencies import Input, Output\n",
    "import plotly.express as px\n",
    "import plotly.graph_objects as go\n",
    "from plotly.subplots import make_subplots\n",
    "from jupyter_dash import JupyterDash"
   ]
  },
  {
   "cell_type": "code",
   "execution_count": 2,
   "metadata": {},
   "outputs": [
    {
     "name": "stdout",
     "output_type": "stream",
     "text": [
      "{0: '#636EFA', 1: '#EF553B', 2: '#00CC96', 3: '#AB63FA', 4: '#FFA15A', 5: '#19D3F3', 6: '#FF6692', 7: '#B6E880', 8: '#FF97FF', 9: '#FECB52'}\n"
     ]
    }
   ],
   "source": [
    "def graphimage(data, point=0):\n",
    "    try:\n",
    "        number = data['points'][point]['customdata'][0]\n",
    "        img = 255*images[number]\n",
    "        img = img.astype(np.uint8)\n",
    "    except:\n",
    "        img = np.zeros((28,28))\n",
    "\n",
    "    z = np.zeros((28,28,3), dtype=np.uint8)\n",
    "    z[:,:,1] =  img\n",
    "    f = go.Figure(go.Image(z=z))\n",
    "    f.update_layout(\n",
    "        height=48,\n",
    "        width=48,\n",
    "        margin=dict(l=4,r=4,t=4,b=4)\n",
    "    )\n",
    "    f.update_xaxes(showticklabels=False) \n",
    "    f.update_yaxes(showticklabels=False) \n",
    "    return f\n",
    "\n",
    "def imagediv(fg, id):\n",
    "    res = html.Div([\n",
    "        dcc.Graph(id=id, figure=fg)],\n",
    "        className='',\n",
    "        #style={'width':'200px'}\n",
    "    )\n",
    "    return res\n",
    "\n",
    "colors_list = px.colors.qualitative.Plotly\n",
    "colors = {i:c for i,c in enumerate(colors_list)}\n",
    "print(colors)"
   ]
  },
  {
   "cell_type": "code",
   "execution_count": 4,
   "metadata": {},
   "outputs": [
    {
     "data": {
      "text/html": [
       "<div>\n",
       "<style scoped>\n",
       "    .dataframe tbody tr th:only-of-type {\n",
       "        vertical-align: middle;\n",
       "    }\n",
       "\n",
       "    .dataframe tbody tr th {\n",
       "        vertical-align: top;\n",
       "    }\n",
       "\n",
       "    .dataframe thead th {\n",
       "        text-align: right;\n",
       "    }\n",
       "</style>\n",
       "<table border=\"1\" class=\"dataframe\">\n",
       "  <thead>\n",
       "    <tr style=\"text-align: right;\">\n",
       "      <th></th>\n",
       "      <th>index</th>\n",
       "      <th>x</th>\n",
       "      <th>y</th>\n",
       "      <th>label</th>\n",
       "    </tr>\n",
       "  </thead>\n",
       "  <tbody>\n",
       "    <tr>\n",
       "      <th>30207</th>\n",
       "      <td>30207</td>\n",
       "      <td>14.818077</td>\n",
       "      <td>8.978702</td>\n",
       "      <td>0</td>\n",
       "    </tr>\n",
       "    <tr>\n",
       "      <th>5662</th>\n",
       "      <td>5662</td>\n",
       "      <td>13.744578</td>\n",
       "      <td>7.798445</td>\n",
       "      <td>0</td>\n",
       "    </tr>\n",
       "    <tr>\n",
       "      <th>55366</th>\n",
       "      <td>55366</td>\n",
       "      <td>14.832038</td>\n",
       "      <td>6.889963</td>\n",
       "      <td>0</td>\n",
       "    </tr>\n",
       "    <tr>\n",
       "      <th>14160</th>\n",
       "      <td>14160</td>\n",
       "      <td>14.265167</td>\n",
       "      <td>7.510245</td>\n",
       "      <td>0</td>\n",
       "    </tr>\n",
       "    <tr>\n",
       "      <th>14161</th>\n",
       "      <td>14161</td>\n",
       "      <td>14.693933</td>\n",
       "      <td>7.937889</td>\n",
       "      <td>0</td>\n",
       "    </tr>\n",
       "  </tbody>\n",
       "</table>\n",
       "</div>"
      ],
      "text/plain": [
       "       index          x         y  label\n",
       "30207  30207  14.818077  8.978702      0\n",
       "5662    5662  13.744578  7.798445      0\n",
       "55366  55366  14.832038  6.889963      0\n",
       "14160  14160  14.265167  7.510245      0\n",
       "14161  14161  14.693933  7.937889      0"
      ]
     },
     "execution_count": 4,
     "metadata": {},
     "output_type": "execute_result"
    }
   ],
   "source": [
    "images = np.load('/Users/cjw/Code/MNIST/Data/mnist_norm.npy')\n",
    "images = images.reshape((-1, 28, 28))\n",
    "\n",
    "df = pd.read_pickle('/Users/cjw/Code/MNIST/Data/umap.pkl')#.sort_values('label')\n",
    "df = df.drop('strlabel', axis=1)\n",
    "df = df.reset_index()\n",
    "df = df.sort_values('label')\n",
    "df.head()"
   ]
  },
  {
   "cell_type": "code",
   "execution_count": 5,
   "metadata": {},
   "outputs": [],
   "source": [
    "fig = px.scatter(df, x='x', y='y', color='label',\n",
    "                 custom_data=[df.index, df.label])\n",
    "\n",
    "fig.update_traces(marker_size=4)\n",
    "fig.update_layout(clickmode='event+select',\n",
    "                  height=500,\n",
    "                  width=500,\n",
    "                  margin=dict(l=4,r=4,t=4,b=4),\n",
    "                  legend={'itemsizing':'constant','itemwidth':60})\n",
    "\n",
    "z = np.zeros((28,28,3), dtype=np.uint8)\n",
    "z[:,:,1] =255*(images[14]).astype('uint8') \n",
    "mnistfig = go.Figure(go.Image(z=z))\n",
    "selfig = go.Figure() # make_subplots(1,4, horizontal_spacing=.05)\n",
    "mnistfig.update_layout(height=200,\n",
    "                       width=200)\n",
    "mnistfig.update_xaxes(showticklabels=False) \n",
    "mnistfig.update_yaxes(showticklabels=False) \n",
    "\n",
    "num_options = [{'label':s, 'value':s} for s in range(10)]\n",
    "num_options.insert(0, {'label':'All', 'value':-1})"
   ]
  },
  {
   "cell_type": "code",
   "execution_count": 6,
   "metadata": {},
   "outputs": [],
   "source": [
    "external_stylesheets = ['https://codepen.io/chriddyp/pen/bWLwgP.css']\n",
    "app = JupyterDash(__name__, external_stylesheets=external_stylesheets)\n",
    "\n",
    "app.layout = html.Div([\n",
    "        html.Div([\n",
    "           html.Label(['Pick a label', dcc.Dropdown(options=num_options,\n",
    "                                                    id='num-dropdown')], \n",
    "            style={'width':'20%'}),\n",
    "            html.Div(\n",
    "                dcc.Graph(\n",
    "                    id='basic-interactions',\n",
    "                    figure=fig,\n",
    "                ),\n",
    "                className='hoverimage', style={'width':'90%', 'float':'left'})],\n",
    "            style={'width':'40%', 'float':'left'}\n",
    "        ),\n",
    "        html.Div([\n",
    "            html.Div(dcc.Graph(id='mnist-image',\n",
    "                            figure=mnistfig), \n",
    "                className='',\n",
    "                style={}),\n",
    "            html.Div(\n",
    "                children=[imagediv(selfig, \"s0\")],\n",
    "                id='selected-images', className='', \n",
    "                style={'width':'95%', 'height':'160px', 'display':'flex',\n",
    "                       'flex-wrap':'wrap'}),\n",
    "            html.Div([\n",
    "                dash_table.DataTable(\n",
    "                    id='table',\n",
    "                    columns=[{'name':i, 'id': i} for i in df.columns],\n",
    "                    data=df.sample(10).to_dict('records'),\n",
    "                    style_cell={'font-size':'small', 'height':'10px'}\n",
    "                ),     \n",
    "            ], style={'position':'absolute', 'width':'80%','bottom':'0px', 'left':'0px',\n",
    "                      }),\n",
    "        ], style={'width':'40%', 'position':'absolute', 'height':'750px',\n",
    "                  'left':'50%', 'top':'50px','border':'3px solid #73AD21'}),\n",
    "])"
   ]
  },
  {
   "cell_type": "code",
   "execution_count": 7,
   "metadata": {},
   "outputs": [],
   "source": [
    "@app.callback(\n",
    "    Output('basic-interactions', 'figure'),\n",
    "    Input('num-dropdown', 'value')\n",
    ")\n",
    "def pick_label(val_label):\n",
    "\n",
    "    if val_label is None:\n",
    "        _df = df\n",
    "        xcolor = 'label'\n",
    "    elif val_label == -1:\n",
    "        _df = df\n",
    "        xcolor = 'label'\n",
    "    else:\n",
    "        _df = df[df.label == val_label].copy()\n",
    "        xcolor = 'xcolor'\n",
    "        _df['xcolor'] = colors[val_label]\n",
    "        print(xcolor, val_label, colors[val_label])\n",
    "        print(_df.head())\n",
    "     \n",
    "    f1 = px.scatter(_df, x='x', y='y', color='label',\n",
    "                 custom_data=[_df.index, _df.label])\n",
    "\n",
    "    f1.update_traces(marker_size=4)\n",
    "    if val_label is not None and val_label >= 0:\n",
    "        f1.update_traces(marker_color=colors[val_label])\n",
    "\n",
    "    f1.update_layout(clickmode='event+select',\n",
    "                  height=500,\n",
    "                  width=500,\n",
    "                  margin=dict(l=4,r=4,t=4,b=4),  \n",
    "                  legend={'itemsizing':'constant','itemwidth':60})\n",
    "    return f1\n",
    "    \n",
    "@app.callback(\n",
    "    Output('mnist-image', 'figure'),\n",
    "    Input('basic-interactions', 'hoverData'))\n",
    "def display_hover_data(hoverData):\n",
    "    f = graphimage(hoverData)\n",
    "    return f #, json.dumps(hoverData, indent=2)\n",
    "\n",
    "@app.callback(\n",
    "    [Output('table', 'data'),\n",
    "     Output('selected-images', 'children')],\n",
    "    Input('basic-interactions', 'selectedData'))\n",
    "def display_hover_data(selectedData):\n",
    "    if selectedData is None:\n",
    "        #return json.dumps(selectedData, indent=2), [] \n",
    "        return [{'a':0}], [] \n",
    "\n",
    "    n = len(selectedData['points'])\n",
    "    px = list()\n",
    "    g = list() \n",
    "    nums = np.random.randint(0,n, 12)\n",
    "    for i, ix in enumerate(nums):\n",
    "        fg = graphimage(selectedData, point=ix)\n",
    "        fgdiv = imagediv(fg, f\"si{i}\")\n",
    "        g.append(fgdiv)\n",
    "        px.append(selectedData['points'][ix]['customdata'][0])\n",
    "   \n",
    "    res_table = df.loc[df.index.isin(px)].to_dict('records')\n",
    "    return res_table, g"
   ]
  },
  {
   "cell_type": "code",
   "execution_count": 8,
   "metadata": {
    "scrolled": false
   },
   "outputs": [
    {
     "data": {
      "text/html": [
       "\n",
       "        <iframe\n",
       "            width=\"100%\"\n",
       "            height=\"650\"\n",
       "            src=\"http://127.0.0.1:8050/\"\n",
       "            frameborder=\"0\"\n",
       "            allowfullscreen\n",
       "        ></iframe>\n",
       "        "
      ],
      "text/plain": [
       "<IPython.lib.display.IFrame at 0x7f8853de66a0>"
      ]
     },
     "metadata": {},
     "output_type": "display_data"
    }
   ],
   "source": [
    "app.run_server(mode='inline')"
   ]
  },
  {
   "cell_type": "code",
   "execution_count": 9,
   "metadata": {},
   "outputs": [
    {
     "data": {
      "text/plain": [
       "784"
      ]
     },
     "execution_count": 9,
     "metadata": {},
     "output_type": "execute_result"
    },
    {
     "name": "stdout",
     "output_type": "stream",
     "text": [
      "xcolor 4 #FFA15A\n",
      "       index         x          y  label   xcolor\n",
      "52589  52589 -1.793161  13.782656      4  #FFA15A\n",
      "58980  58980 -2.458477  13.312469      4  #FFA15A\n",
      "27612  27612  0.343376  13.500982      4  #FFA15A\n",
      "36640  36640 -0.747245  13.325110      4  #FFA15A\n",
      "53873  53873 -1.107094  12.985000      4  #FFA15A\n"
     ]
    }
   ],
   "source": [
    "28*28"
   ]
  },
  {
   "cell_type": "code",
   "execution_count": null,
   "metadata": {},
   "outputs": [],
   "source": []
  }
 ],
 "metadata": {
  "kernelspec": {
   "display_name": "Python 3",
   "language": "python",
   "name": "python3"
  },
  "language_info": {
   "codemirror_mode": {
    "name": "ipython",
    "version": 3
   },
   "file_extension": ".py",
   "mimetype": "text/x-python",
   "name": "python",
   "nbconvert_exporter": "python",
   "pygments_lexer": "ipython3",
   "version": "3.8.5"
  }
 },
 "nbformat": 4,
 "nbformat_minor": 4
}
